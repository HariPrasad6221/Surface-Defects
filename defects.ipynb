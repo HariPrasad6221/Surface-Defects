{
  "nbformat": 4,
  "nbformat_minor": 0,
  "metadata": {
    "kernelspec": {
      "language": "python",
      "display_name": "Python 3",
      "name": "python3"
    },
    "language_info": {
      "name": "python",
      "version": "3.7.10",
      "mimetype": "text/x-python",
      "codemirror_mode": {
        "name": "ipython",
        "version": 3
      },
      "pygments_lexer": "ipython3",
      "nbconvert_exporter": "python",
      "file_extension": ".py"
    },
    "colab": {
      "provenance": [],
      "include_colab_link": true
    }
  },
  "cells": [
    {
      "cell_type": "markdown",
      "metadata": {
        "id": "view-in-github",
        "colab_type": "text"
      },
      "source": [
        "<a href=\"https://colab.research.google.com/github/HariPrasad6221/Surface-Defects/blob/main/defects.ipynb\" target=\"_parent\"><img src=\"https://colab.research.google.com/assets/colab-badge.svg\" alt=\"Open In Colab\"/></a>"
      ]
    },
    {
      "cell_type": "code",
      "metadata": {
        "id": "cO0OWQhY5x3u",
        "execution": {
          "iopub.status.busy": "2021-11-10T04:06:23.735633Z",
          "iopub.execute_input": "2021-11-10T04:06:23.736028Z",
          "iopub.status.idle": "2021-11-10T04:06:24.781270Z",
          "shell.execute_reply.started": "2021-11-10T04:06:23.735933Z",
          "shell.execute_reply": "2021-11-10T04:06:24.780526Z"
        },
        "trusted": true
      },
      "source": [
        "import numpy as np\n",
        "import pandas as pd\n",
        "import seaborn as sns\n",
        "import matplotlib.pyplot as plt\n",
        "from sklearn.tree import DecisionTreeClassifier, export_graphviz\n",
        "from sklearn.model_selection import train_test_split\n",
        "from sklearn import preprocessing\n",
        "from sklearn.metrics import accuracy_score, f1_score, roc_auc_score\n",
        "import warnings\n",
        "warnings.filterwarnings(\"ignore\", category=FutureWarning)"
      ],
      "execution_count": null,
      "outputs": []
    },
    {
      "cell_type": "code",
      "metadata": {
        "id": "U0C8DZ_U7yIa",
        "execution": {
          "iopub.status.busy": "2021-11-10T04:06:24.782783Z",
          "iopub.execute_input": "2021-11-10T04:06:24.783269Z",
          "iopub.status.idle": "2021-11-10T04:06:29.687623Z",
          "shell.execute_reply.started": "2021-11-10T04:06:24.783222Z",
          "shell.execute_reply": "2021-11-10T04:06:29.686882Z"
        },
        "trusted": true
      },
      "source": [
        "import holoviews as hv\n",
        "from holoviews import opts\n",
        "hv.extension('bokeh')\n",
        "from sklearn.preprocessing import StandardScaler, LabelEncoder\n",
        "import os\n",
        "from scipy import signal\n",
        "import lightgbm as lgb\n",
        "import shap"
      ],
      "execution_count": null,
      "outputs": []
    },
    {
      "cell_type": "code",
      "metadata": {
        "execution": {
          "iopub.status.busy": "2021-11-10T04:06:29.689023Z",
          "iopub.execute_input": "2021-11-10T04:06:29.689299Z",
          "iopub.status.idle": "2021-11-10T04:06:29.723686Z",
          "shell.execute_reply.started": "2021-11-10T04:06:29.689264Z",
          "shell.execute_reply": "2021-11-10T04:06:29.722962Z"
        },
        "trusted": true,
        "id": "xnkZ9lx4ZjVG"
      },
      "source": [
        "experiment_result = pd.read_csv(\"../input/cnc-tool-wear/train.csv\")\n",
        "print( experiment_result.shape)\n",
        "experiment_result.head(3)"
      ],
      "execution_count": null,
      "outputs": []
    },
    {
      "cell_type": "code",
      "metadata": {
        "execution": {
          "iopub.status.busy": "2021-11-10T04:06:29.725744Z",
          "iopub.execute_input": "2021-11-10T04:06:29.726196Z",
          "iopub.status.idle": "2021-11-10T04:06:29.775272Z",
          "shell.execute_reply.started": "2021-11-10T04:06:29.726157Z",
          "shell.execute_reply": "2021-11-10T04:06:29.774432Z"
        },
        "trusted": true,
        "id": "JWy_TLAwZjVH"
      },
      "source": [
        "experiment_tmp = pd.read_csv(\"../input/cnc-tool-wear/experiment_01.csv\")\n",
        "print(experiment_tmp.shape)\n",
        "print(experiment_tmp.columns)\n",
        "experiment_tmp.head(3)"
      ],
      "execution_count": null,
      "outputs": []
    },
    {
      "cell_type": "code",
      "metadata": {
        "id": "ziKFtIzt7AUQ",
        "execution": {
          "iopub.status.busy": "2021-11-10T04:06:29.776611Z",
          "iopub.execute_input": "2021-11-10T04:06:29.776949Z",
          "iopub.status.idle": "2021-11-10T04:06:29.786474Z",
          "shell.execute_reply.started": "2021-11-10T04:06:29.776909Z",
          "shell.execute_reply": "2021-11-10T04:06:29.785661Z"
        },
        "trusted": true
      },
      "source": [
        "experiment_result['passed_visual_inspection'] = experiment_result['passed_visual_inspection'].fillna('no')"
      ],
      "execution_count": null,
      "outputs": []
    },
    {
      "cell_type": "code",
      "metadata": {
        "id": "kLNtL-aZFKis",
        "execution": {
          "iopub.status.busy": "2021-11-10T04:06:29.787538Z",
          "iopub.execute_input": "2021-11-10T04:06:29.787765Z",
          "iopub.status.idle": "2021-11-10T04:06:30.382538Z",
          "shell.execute_reply.started": "2021-11-10T04:06:29.787740Z",
          "shell.execute_reply": "2021-11-10T04:06:30.381817Z"
        },
        "trusted": true
      },
      "source": [
        "frames = []\n",
        "for i in range(1,19):\n",
        "    exp_num = '0' + str(i) if i < 10 else str(i)\n",
        "    frame = pd.read_csv(f\"../input/cnc-tool-wear/experiment_{exp_num}.csv\")\n",
        "    exp_result_row = experiment_result[experiment_result['No'] == i]\n",
        "    frame['exp_num'] = i\n",
        "    frame['material'] = exp_result_row.iloc[0]['material']\n",
        "    frame['feedrate'] = exp_result_row.iloc[0]['feedrate']\n",
        "    frame['clamp_pressure'] = exp_result_row.iloc[0]['clamp_pressure']\n",
        "    frame['tool_condition'] = exp_result_row.iloc[0]['tool_condition']\n",
        "    frame['machining_finalized'] = exp_result_row.iloc[0]['machining_finalized']\n",
        "    frame['passed_visual_inspection'] = exp_result_row.iloc[0]['passed_visual_inspection']\n",
        "    frames.append(frame)\n",
        "\n",
        "df = pd.concat(frames, ignore_index = True)\n",
        "df.head(3)"
      ],
      "execution_count": null,
      "outputs": []
    },
    {
      "cell_type": "code",
      "metadata": {
        "id": "6Q61P7UJIqkW",
        "execution": {
          "iopub.status.busy": "2021-11-10T04:06:30.383763Z",
          "iopub.execute_input": "2021-11-10T04:06:30.384045Z",
          "iopub.status.idle": "2021-11-10T04:06:30.399587Z",
          "shell.execute_reply.started": "2021-11-10T04:06:30.384009Z",
          "shell.execute_reply": "2021-11-10T04:06:30.398758Z"
        },
        "trusted": true
      },
      "source": [
        "df['Machining_Process'].value_counts().sort_index()"
      ],
      "execution_count": null,
      "outputs": []
    },
    {
      "cell_type": "code",
      "metadata": {
        "id": "S5Jn4XutIrpv",
        "execution": {
          "iopub.status.busy": "2021-11-10T04:06:30.400912Z",
          "iopub.execute_input": "2021-11-10T04:06:30.401535Z",
          "iopub.status.idle": "2021-11-10T04:06:30.425411Z",
          "shell.execute_reply.started": "2021-11-10T04:06:30.401498Z",
          "shell.execute_reply": "2021-11-10T04:06:30.424689Z"
        },
        "trusted": true
      },
      "source": [
        "df.replace({'Machining_Process': {'Starting':'Prep','end':'End'}}, inplace=True)"
      ],
      "execution_count": null,
      "outputs": []
    },
    {
      "cell_type": "code",
      "metadata": {
        "id": "EMQC2SGAI1WS",
        "execution": {
          "iopub.status.busy": "2021-11-10T04:06:30.426632Z",
          "iopub.execute_input": "2021-11-10T04:06:30.427290Z",
          "iopub.status.idle": "2021-11-10T04:06:31.085555Z",
          "shell.execute_reply.started": "2021-11-10T04:06:30.427253Z",
          "shell.execute_reply": "2021-11-10T04:06:31.084769Z"
        },
        "trusted": true
      },
      "source": [
        "feedrate = hv.Distribution(df['feedrate']).opts(title=\"Distribution of feedrate\", color=\"green\", xlabel=\"Feedrate\", ylabel=\"Density\")\n",
        "clamp = hv.Distribution(df['clamp_pressure']).opts(title=\"Distribution of clamp pressure\", color=\"green\", xlabel=\"Pressure\", ylabel=\"Density\")\n",
        "material = hv.Bars(df['material'].value_counts()).opts(title=\"Material Count\", color=\"green\", xlabel=\"Material\", ylabel=\"Count\")\n",
        "(feedrate + clamp + material).opts(opts.Bars(width=300, height=300,tools=['hover'],show_grid=True)).cols(2)"
      ],
      "execution_count": null,
      "outputs": []
    },
    {
      "cell_type": "code",
      "metadata": {
        "id": "M4XM_yzEI5br",
        "execution": {
          "iopub.status.busy": "2021-11-10T04:06:31.088955Z",
          "iopub.execute_input": "2021-11-10T04:06:31.089419Z",
          "iopub.status.idle": "2021-11-10T04:06:31.538410Z",
          "shell.execute_reply.started": "2021-11-10T04:06:31.089377Z",
          "shell.execute_reply": "2021-11-10T04:06:31.536614Z"
        },
        "trusted": true
      },
      "source": [
        "tool_df = np.round(df['tool_condition'].value_counts(normalize=True) * 100)\n",
        "finalized_df = np.round(df['machining_finalized'].value_counts(normalize=True) * 100)\n",
        "vis_passed_df = np.round(df['passed_visual_inspection'].value_counts(normalize=True) * 100)\n",
        "tool_wear = hv.Bars(tool_df).opts(title=\"Tool Wear Count\", color=\"green\", xlabel=\"Worn/Unworn\", ylabel=\"Percentage\", yformatter='%d%%')\n",
        "finalized = hv.Bars(finalized_df).opts(title=\"Finalized Count\", color=\"green\", xlabel=\"Yes/No\", ylabel=\"Percentage\", yformatter='%d%%')\n",
        "vis_inspection = hv.Bars(vis_passed_df).opts(title=\"Visual Inspection Passed Count\", color=\"green\", xlabel=\"Yes/No\", ylabel=\"Percentage\", yformatter='%d%%')\n",
        "(tool_wear + finalized + vis_inspection).opts(opts.Bars(width=300, height=300,tools=['hover'],show_grid=True)).cols(2)"
      ],
      "execution_count": null,
      "outputs": []
    },
    {
      "cell_type": "code",
      "metadata": {
        "id": "YErD_M8EI8_Y",
        "execution": {
          "iopub.status.busy": "2021-11-10T04:06:31.539943Z",
          "iopub.execute_input": "2021-11-10T04:06:31.540358Z",
          "iopub.status.idle": "2021-11-10T04:06:32.793606Z",
          "shell.execute_reply.started": "2021-11-10T04:06:31.540316Z",
          "shell.execute_reply": "2021-11-10T04:06:32.792851Z"
        },
        "trusted": true
      },
      "source": [
        "finalized_df_worn = np.round(df[df['tool_condition']=='worn']['machining_finalized'].value_counts(normalize=True) * 100)\n",
        "finalized_df_unworn = np.round(df[df['tool_condition']=='unworn']['machining_finalized'].value_counts(normalize=True) * 100)\n",
        "vis_passed_df_worn = np.round(df[df['tool_condition']=='worn']['passed_visual_inspection'].value_counts(normalize=True) * 100)\n",
        "vis_passed_df_unworn = np.round(df[df['tool_condition']=='unworn']['passed_visual_inspection'].value_counts(normalize=True) * 100)\n",
        "finalized_worn = hv.Bars(finalized_df_worn).opts(title=\"[WORN] Finalized Count\", color=\"orange\", xlabel=\"Yes/No\", ylabel=\"Percentage\", yformatter='%d%%')\\\n",
        "            * hv.Text('yes', 15, f\"{np.round(finalized_df_worn['yes']/sum(finalized_df_worn)*100)}%\")\\\n",
        "            * hv.Text('no', 15, f\"{np.round(finalized_df_worn['no']/sum(finalized_df_worn)*100)}%\")\n",
        "finalized_unworn = hv.Bars(finalized_df_unworn).opts(title=\"[UNWORN] Finalized Count\", color=\"orange\", xlabel=\"Yes/No\", ylabel=\"Percentage\", yformatter='%d%%')\\\n",
        "            * hv.Text('yes', 15, f\"{np.round(finalized_df_unworn['yes']/sum(finalized_df_unworn)*100)}%\")\\\n",
        "            * hv.Text('no', 15, f\"{np.round(finalized_df_unworn['no']/sum(finalized_df_unworn)*100)}%\")\n",
        "vis_inspection_worn = hv.Bars(vis_passed_df_worn).opts(title=\"[WORN] Visual Inspection Passed Count\", color=\"green\", xlabel=\"Yes/No\", ylabel=\"Percentage\", yformatter='%d%%')\\\n",
        "            * hv.Text('yes', 45, f\"{np.round(vis_passed_df_worn['yes']/sum(vis_passed_df_worn)*100)}%\")\\\n",
        "            * hv.Text('no', 45, f\"{np.round(vis_passed_df_worn['no']/sum(vis_passed_df_worn)*100)}%\")\n",
        "vis_inspection_unworn = hv.Bars(vis_passed_df_unworn).opts(title=\"[UNWORN] Visual Inspection Passed Count\", color=\"green\", xlabel=\"Yes/No\", ylabel=\"Percentage\", yformatter='%d%%')\\\n",
        "            * hv.Text('yes', 15, f\"{np.round(vis_passed_df_unworn['yes']/sum(vis_passed_df_unworn)*100)}%\")\\\n",
        "            * hv.Text('no', 15, f\"{np.round(vis_passed_df_unworn['no']/sum(vis_passed_df_unworn)*100)}%\")\n",
        "((finalized_worn + finalized_unworn) + (vis_inspection_worn + vis_inspection_unworn)).opts(opts.Bars(width=400, height=300,tools=['hover'],show_grid=True)).cols(2)"
      ],
      "execution_count": null,
      "outputs": []
    },
    {
      "cell_type": "code",
      "metadata": {
        "id": "oyNShxgJJAqI",
        "execution": {
          "iopub.status.busy": "2021-11-10T04:06:32.795022Z",
          "iopub.execute_input": "2021-11-10T04:06:32.795439Z",
          "iopub.status.idle": "2021-11-10T04:06:32.941445Z",
          "shell.execute_reply.started": "2021-11-10T04:06:32.795398Z",
          "shell.execute_reply": "2021-11-10T04:06:32.940797Z"
        },
        "trusted": true
      },
      "source": [
        "worn_fin_vis = pd.concat([finalized_df_worn, vis_passed_df_worn], axis=1,sort=True).rename(columns={'machining_finalized':'[WORN] Finalized', 'passed_visual_inspection':'[WORN] Visual Inspection Passed'})\n",
        "worn_fin_vis = pd.melt(worn_fin_vis.reset_index(), ['index']).rename(columns={'index':'Yes/No', 'variable':'Outputs'})\n",
        "hv.Bars(worn_fin_vis, ['Outputs','Yes/No'], 'value').opts(opts.Bars(title=\"Machining Finalized and Passed Visual Inspection by Worn Tool Count\", width=700, height=400,tools=['hover'],\\\n",
        "                                                                show_grid=True, ylabel=\"Percentage\", yformatter='%d%%'))"
      ],
      "execution_count": null,
      "outputs": []
    },
    {
      "cell_type": "code",
      "metadata": {
        "id": "kVLj1f6tJOB0",
        "execution": {
          "iopub.status.busy": "2021-11-10T04:06:32.942643Z",
          "iopub.execute_input": "2021-11-10T04:06:32.943119Z",
          "iopub.status.idle": "2021-11-10T04:06:33.067511Z",
          "shell.execute_reply.started": "2021-11-10T04:06:32.943080Z",
          "shell.execute_reply": "2021-11-10T04:06:33.066801Z"
        },
        "trusted": true
      },
      "source": [
        "hv.Bars(df['Machining_Process'].value_counts()).opts(title=\"Machining Process Count\", color=\"red\", xlabel=\"Machining Processes\", ylabel=\"Count\")\\\n",
        "                                        .opts(opts.Bars(width=500, height=300,tools=['hover'],xrotation=45,show_grid=True))"
      ],
      "execution_count": null,
      "outputs": []
    },
    {
      "cell_type": "code",
      "metadata": {
        "id": "vndrYVfvJULV",
        "execution": {
          "iopub.status.busy": "2021-11-10T04:06:33.068875Z",
          "iopub.execute_input": "2021-11-10T04:06:33.069162Z",
          "iopub.status.idle": "2021-11-10T04:06:33.077513Z",
          "shell.execute_reply.started": "2021-11-10T04:06:33.069127Z",
          "shell.execute_reply": "2021-11-10T04:06:33.076718Z"
        },
        "trusted": true
      },
      "source": [
        "def plot_ts(col, color='red', yformat='%d%%'):\n",
        "    v_list = []\n",
        "    for i in range(1,19):\n",
        "        v = hv.Curve(df[df['exp_num']==i].reset_index()[col]).opts(title=f\"{col} in  experiment {i}\", xlabel=\"Time\", ylabel=f\"{col}\", yformatter=yformat)\\\n",
        "                                                          .opts(width=300, height=150,tools=['hover'],show_grid=True,fontsize=8, color=color)\n",
        "        v_list.append(v)\n",
        "    return (v_list[0] + v_list[1] + v_list[2] + v_list[3] + v_list[4] + v_list[5] + v_list[6] + v_list[7] + v_list[8] + v_list[9] + v_list[10] + v_list[11] + v_list[12]\\\n",
        "            + v_list[13] + v_list[14] + v_list[15] + v_list[16] + v_list[17]).opts(shared_axes=False).cols(6)"
      ],
      "execution_count": null,
      "outputs": []
    },
    {
      "cell_type": "code",
      "metadata": {
        "id": "CfS2H12C49g_",
        "execution": {
          "iopub.status.busy": "2021-11-10T04:06:33.078991Z",
          "iopub.execute_input": "2021-11-10T04:06:33.079282Z",
          "iopub.status.idle": "2021-11-10T04:06:35.094307Z",
          "shell.execute_reply.started": "2021-11-10T04:06:33.079243Z",
          "shell.execute_reply": "2021-11-10T04:06:35.093502Z"
        },
        "trusted": true
      },
      "source": [
        "plot_ts('X1_ActualVelocity', color='red', yformat='%d mm/s')"
      ],
      "execution_count": null,
      "outputs": []
    },
    {
      "cell_type": "code",
      "metadata": {
        "id": "r3yyoJvj5WsG",
        "execution": {
          "iopub.status.busy": "2021-11-10T04:06:35.095571Z",
          "iopub.execute_input": "2021-11-10T04:06:35.095884Z",
          "iopub.status.idle": "2021-11-10T04:06:37.285438Z",
          "shell.execute_reply.started": "2021-11-10T04:06:35.095847Z",
          "shell.execute_reply": "2021-11-10T04:06:37.284798Z"
        },
        "trusted": true
      },
      "source": [
        "plot_ts('Y1_ActualVelocity', color='orange', yformat='%d mm/s')"
      ],
      "execution_count": null,
      "outputs": []
    },
    {
      "cell_type": "code",
      "metadata": {
        "id": "6CKCsbp15bpg",
        "execution": {
          "iopub.status.busy": "2021-11-10T04:06:37.286680Z",
          "iopub.execute_input": "2021-11-10T04:06:37.287090Z",
          "iopub.status.idle": "2021-11-10T04:06:39.307488Z",
          "shell.execute_reply.started": "2021-11-10T04:06:37.287048Z",
          "shell.execute_reply": "2021-11-10T04:06:39.306827Z"
        },
        "trusted": true
      },
      "source": [
        "plot_ts('Z1_ActualVelocity', color='green', yformat='%d mm/s')"
      ],
      "execution_count": null,
      "outputs": []
    },
    {
      "cell_type": "code",
      "metadata": {
        "id": "fzzx0mIP5drA",
        "execution": {
          "iopub.status.busy": "2021-11-10T04:06:39.308832Z",
          "iopub.execute_input": "2021-11-10T04:06:39.309311Z",
          "iopub.status.idle": "2021-11-10T04:06:41.526481Z",
          "shell.execute_reply.started": "2021-11-10T04:06:39.309272Z",
          "shell.execute_reply": "2021-11-10T04:06:41.525800Z"
        },
        "trusted": true
      },
      "source": [
        "plot_ts('S1_ActualVelocity', color='blue', yformat='%d mm/s')"
      ],
      "execution_count": null,
      "outputs": []
    },
    {
      "cell_type": "code",
      "metadata": {
        "id": "kV1OiPbw5hRY",
        "execution": {
          "iopub.status.busy": "2021-11-10T04:06:41.527670Z",
          "iopub.execute_input": "2021-11-10T04:06:41.528326Z",
          "iopub.status.idle": "2021-11-10T04:06:43.515382Z",
          "shell.execute_reply.started": "2021-11-10T04:06:41.528286Z",
          "shell.execute_reply": "2021-11-10T04:06:43.511308Z"
        },
        "trusted": true
      },
      "source": [
        "plot_ts('X1_CurrentFeedback', color='red', yformat='%d A')"
      ],
      "execution_count": null,
      "outputs": []
    },
    {
      "cell_type": "code",
      "metadata": {
        "id": "xJENFDzl5jww",
        "execution": {
          "iopub.status.busy": "2021-11-10T04:06:43.516682Z",
          "iopub.execute_input": "2021-11-10T04:06:43.517465Z",
          "iopub.status.idle": "2021-11-10T04:06:45.501384Z",
          "shell.execute_reply.started": "2021-11-10T04:06:43.517425Z",
          "shell.execute_reply": "2021-11-10T04:06:45.498222Z"
        },
        "trusted": true
      },
      "source": [
        "plot_ts('Y1_CurrentFeedback', color='orange', yformat='%d A')"
      ],
      "execution_count": null,
      "outputs": []
    },
    {
      "cell_type": "code",
      "metadata": {
        "id": "nN8K1ap_5kf1",
        "execution": {
          "iopub.status.busy": "2021-11-10T04:06:45.502626Z",
          "iopub.execute_input": "2021-11-10T04:06:45.503332Z",
          "iopub.status.idle": "2021-11-10T04:06:47.488849Z",
          "shell.execute_reply.started": "2021-11-10T04:06:45.503294Z",
          "shell.execute_reply": "2021-11-10T04:06:47.488226Z"
        },
        "trusted": true
      },
      "source": [
        "plot_ts('Z1_CurrentFeedback', color='green', yformat='%d A')"
      ],
      "execution_count": null,
      "outputs": []
    },
    {
      "cell_type": "code",
      "metadata": {
        "id": "_WoU6hNr5meT",
        "execution": {
          "iopub.status.busy": "2021-11-10T04:06:47.490011Z",
          "iopub.execute_input": "2021-11-10T04:06:47.490458Z",
          "iopub.status.idle": "2021-11-10T04:06:49.711384Z",
          "shell.execute_reply.started": "2021-11-10T04:06:47.490420Z",
          "shell.execute_reply": "2021-11-10T04:06:49.707371Z"
        },
        "trusted": true
      },
      "source": [
        "plot_ts('S1_CurrentFeedback', color='blue', yformat='%d A')"
      ],
      "execution_count": null,
      "outputs": []
    },
    {
      "cell_type": "code",
      "metadata": {
        "id": "QYTHy1v95oYQ",
        "execution": {
          "iopub.status.busy": "2021-11-10T04:06:49.712660Z",
          "iopub.execute_input": "2021-11-10T04:06:49.713360Z",
          "iopub.status.idle": "2021-11-10T04:06:52.489327Z",
          "shell.execute_reply.started": "2021-11-10T04:06:49.713322Z",
          "shell.execute_reply": "2021-11-10T04:06:52.487860Z"
        },
        "trusted": true
      },
      "source": [
        "plot_ts('X1_DCBusVoltage', color='red', yformat='%.1f V')"
      ],
      "execution_count": null,
      "outputs": []
    },
    {
      "cell_type": "code",
      "metadata": {
        "id": "jR_5GdgY5qS9",
        "execution": {
          "iopub.status.busy": "2021-11-10T04:06:52.490628Z",
          "iopub.execute_input": "2021-11-10T04:06:52.491411Z",
          "iopub.status.idle": "2021-11-10T04:06:54.517393Z",
          "shell.execute_reply.started": "2021-11-10T04:06:52.491367Z",
          "shell.execute_reply": "2021-11-10T04:06:54.515637Z"
        },
        "trusted": true
      },
      "source": [
        "plot_ts('Y1_DCBusVoltage', color='orange', yformat='%.1f V')"
      ],
      "execution_count": null,
      "outputs": []
    },
    {
      "cell_type": "code",
      "metadata": {
        "id": "rSKaXxOC5sbs",
        "execution": {
          "iopub.status.busy": "2021-11-10T04:06:54.518722Z",
          "iopub.execute_input": "2021-11-10T04:06:54.519378Z",
          "iopub.status.idle": "2021-11-10T04:06:56.507370Z",
          "shell.execute_reply.started": "2021-11-10T04:06:54.519337Z",
          "shell.execute_reply": "2021-11-10T04:06:56.503209Z"
        },
        "trusted": true
      },
      "source": [
        "plot_ts('Z1_DCBusVoltage', color='green', yformat='%.1f V')"
      ],
      "execution_count": null,
      "outputs": []
    },
    {
      "cell_type": "code",
      "metadata": {
        "id": "_k2yBBi45wUq",
        "execution": {
          "iopub.status.busy": "2021-11-10T04:06:56.508689Z",
          "iopub.execute_input": "2021-11-10T04:06:56.509507Z",
          "iopub.status.idle": "2021-11-10T04:06:58.520406Z",
          "shell.execute_reply.started": "2021-11-10T04:06:56.509468Z",
          "shell.execute_reply": "2021-11-10T04:06:58.519786Z"
        },
        "trusted": true
      },
      "source": [
        "plot_ts('S1_DCBusVoltage', color='blue', yformat='%.1f V')"
      ],
      "execution_count": null,
      "outputs": []
    },
    {
      "cell_type": "code",
      "metadata": {
        "id": "PjpHa8Ps5w8i"
      },
      "source": [],
      "execution_count": null,
      "outputs": []
    },
    {
      "cell_type": "code",
      "metadata": {
        "id": "Kdsfb07MK1Pc",
        "execution": {
          "iopub.status.busy": "2021-11-10T04:06:58.521797Z",
          "iopub.execute_input": "2021-11-10T04:06:58.522238Z",
          "iopub.status.idle": "2021-11-10T04:07:02.753598Z",
          "shell.execute_reply.started": "2021-11-10T04:06:58.522200Z",
          "shell.execute_reply": "2021-11-10T04:07:02.752842Z"
        },
        "trusted": true
      },
      "source": [
        "g = sns.pairplot(df, hue='tool_condition', vars=[\"feedrate\",\"clamp_pressure\"])\n",
        "g.fig.suptitle(\"Tool Condition - feedrate/clamp pressure\", y=1.1, fontsize=20)\n",
        "g.fig.set_figheight(6)\n",
        "g.fig.set_figwidth(9)\n",
        "plt.show()"
      ],
      "execution_count": null,
      "outputs": []
    },
    {
      "cell_type": "code",
      "metadata": {
        "id": "3C71bAbGK7Af",
        "execution": {
          "iopub.status.busy": "2021-11-10T04:07:02.759212Z",
          "iopub.execute_input": "2021-11-10T04:07:02.759536Z",
          "iopub.status.idle": "2021-11-10T04:07:06.636608Z",
          "shell.execute_reply.started": "2021-11-10T04:07:02.759502Z",
          "shell.execute_reply": "2021-11-10T04:07:06.635826Z"
        },
        "trusted": true
      },
      "source": [
        "g = sns.pairplot(df, hue='machining_finalized', vars=[\"feedrate\",\"clamp_pressure\"])\n",
        "g.fig.suptitle(\"Machining Finalized - feedrate/clamp pressure\", y=1.1, fontsize=20)\n",
        "g.fig.set_figheight(6)\n",
        "g.fig.set_figwidth(9)\n",
        "plt.show()"
      ],
      "execution_count": null,
      "outputs": []
    },
    {
      "cell_type": "code",
      "metadata": {
        "id": "k7__sb07LAh1",
        "execution": {
          "iopub.status.busy": "2021-11-10T04:07:06.637990Z",
          "iopub.execute_input": "2021-11-10T04:07:06.638253Z",
          "iopub.status.idle": "2021-11-10T04:07:26.428348Z",
          "shell.execute_reply.started": "2021-11-10T04:07:06.638216Z",
          "shell.execute_reply": "2021-11-10T04:07:26.426651Z"
        },
        "trusted": true
      },
      "source": [
        "g = sns.pairplot(df, hue='tool_condition', vars=['X1_ActualVelocity','Y1_ActualVelocity','Z1_ActualVelocity','S1_ActualVelocity'])\n",
        "g.fig.suptitle(\"Tool Condition - velocity\", y=1.1, fontsize=20)\n",
        "g.fig.set_figheight(6)\n",
        "g.fig.set_figwidth(9)\n",
        "g.fig.get_children()[-1].set_bbox_to_anchor((1.1, 0.5, 0, 0))\n",
        "plt.show()"
      ],
      "execution_count": null,
      "outputs": []
    },
    {
      "cell_type": "code",
      "metadata": {
        "id": "tsbVtdzALDBG",
        "execution": {
          "iopub.status.busy": "2021-11-10T04:07:26.429665Z",
          "iopub.execute_input": "2021-11-10T04:07:26.430414Z",
          "iopub.status.idle": "2021-11-10T04:07:44.817625Z",
          "shell.execute_reply.started": "2021-11-10T04:07:26.430372Z",
          "shell.execute_reply": "2021-11-10T04:07:44.816936Z"
        },
        "trusted": true
      },
      "source": [
        "g = sns.pairplot(df, hue='machining_finalized', vars=['X1_ActualVelocity','Y1_ActualVelocity','Z1_ActualVelocity','S1_ActualVelocity'])\n",
        "g.fig.suptitle(\"Machining Finalized - velocity\", y=1.1, fontsize=20)\n",
        "g.fig.set_figheight(6)\n",
        "g.fig.set_figwidth(9)\n",
        "g.fig.get_children()[-1].set_bbox_to_anchor((1.1, 0.5, 0, 0))\n",
        "plt.show()"
      ],
      "execution_count": null,
      "outputs": []
    },
    {
      "cell_type": "code",
      "metadata": {
        "id": "t4ZtASjlLFGw",
        "execution": {
          "iopub.status.busy": "2021-11-10T04:07:44.818918Z",
          "iopub.execute_input": "2021-11-10T04:07:44.819317Z",
          "iopub.status.idle": "2021-11-10T04:08:04.578386Z",
          "shell.execute_reply.started": "2021-11-10T04:07:44.819280Z",
          "shell.execute_reply": "2021-11-10T04:08:04.577671Z"
        },
        "trusted": true
      },
      "source": [
        "np.seterr(divide='ignore', invalid='ignore')\n",
        "g = sns.pairplot(df, hue='tool_condition', vars=['X1_CurrentFeedback','Y1_CurrentFeedback','Z1_CurrentFeedback','S1_CurrentFeedback'])\n",
        "g.fig.suptitle(\"Tool Condition - Current\", y=1.1, fontsize=20)\n",
        "g.fig.set_figheight(6)\n",
        "g.fig.set_figwidth(9)\n",
        "g.fig.get_children()[-1].set_bbox_to_anchor((1.1, 0.5, 0, 0))\n",
        "plt.show()"
      ],
      "execution_count": null,
      "outputs": []
    },
    {
      "cell_type": "code",
      "metadata": {
        "id": "owgzu_pGLIms",
        "execution": {
          "iopub.status.busy": "2021-11-10T04:08:04.579704Z",
          "iopub.execute_input": "2021-11-10T04:08:04.580100Z",
          "iopub.status.idle": "2021-11-10T04:08:23.585500Z",
          "shell.execute_reply.started": "2021-11-10T04:08:04.580060Z",
          "shell.execute_reply": "2021-11-10T04:08:23.584791Z"
        },
        "trusted": true
      },
      "source": [
        "g = sns.pairplot(df, hue='machining_finalized', vars=['X1_CurrentFeedback','Y1_CurrentFeedback','Z1_CurrentFeedback','S1_CurrentFeedback'])\n",
        "g.fig.suptitle(\"Machining Finalized - Current\", y=1.1, fontsize=20)\n",
        "g.fig.set_figheight(6)\n",
        "g.fig.set_figwidth(9)\n",
        "g.fig.get_children()[-1].set_bbox_to_anchor((1.1, 0.5, 0, 0))\n",
        "plt.show()"
      ],
      "execution_count": null,
      "outputs": []
    },
    {
      "cell_type": "code",
      "metadata": {
        "id": "goSg8ueTLJ1B",
        "execution": {
          "iopub.status.busy": "2021-11-10T04:08:23.586784Z",
          "iopub.execute_input": "2021-11-10T04:08:23.587173Z",
          "iopub.status.idle": "2021-11-10T04:08:43.637370Z",
          "shell.execute_reply.started": "2021-11-10T04:08:23.587128Z",
          "shell.execute_reply": "2021-11-10T04:08:43.636631Z"
        },
        "trusted": true
      },
      "source": [
        "g = sns.pairplot(df, hue='tool_condition', vars=['X1_DCBusVoltage','Y1_DCBusVoltage','Z1_DCBusVoltage','S1_DCBusVoltage'])\n",
        "g.fig.suptitle(\"Tool Condition - Voltage\", y=1.1, fontsize=20)\n",
        "g.fig.set_figheight(6)\n",
        "g.fig.set_figwidth(9)\n",
        "g.fig.get_children()[-1].set_bbox_to_anchor((1.1, 0.5, 0, 0))\n",
        "plt.show()"
      ],
      "execution_count": null,
      "outputs": []
    },
    {
      "cell_type": "code",
      "metadata": {
        "id": "yQ11mdSVLNQc",
        "execution": {
          "iopub.status.busy": "2021-11-10T04:08:43.638676Z",
          "iopub.execute_input": "2021-11-10T04:08:43.639078Z",
          "iopub.status.idle": "2021-11-10T04:09:03.296075Z",
          "shell.execute_reply.started": "2021-11-10T04:08:43.639040Z",
          "shell.execute_reply": "2021-11-10T04:09:03.295361Z"
        },
        "trusted": true
      },
      "source": [
        "g = sns.pairplot(df, hue='machining_finalized', vars=['X1_DCBusVoltage','Y1_DCBusVoltage','Z1_DCBusVoltage','S1_DCBusVoltage'])\n",
        "g.fig.suptitle(\"Machining Finalized - Voltage\", y=1.1, fontsize=20)\n",
        "g.fig.set_figheight(6)\n",
        "g.fig.set_figwidth(9)\n",
        "g.fig.get_children()[-1].set_bbox_to_anchor((1.1, 0.5, 0, 0))\n",
        "plt.show()"
      ],
      "execution_count": null,
      "outputs": []
    },
    {
      "cell_type": "code",
      "metadata": {
        "id": "hFz3PYELLQz1",
        "execution": {
          "iopub.status.busy": "2021-11-10T04:09:03.297415Z",
          "iopub.execute_input": "2021-11-10T04:09:03.297802Z",
          "iopub.status.idle": "2021-11-10T04:09:03.310628Z",
          "shell.execute_reply.started": "2021-11-10T04:09:03.297763Z",
          "shell.execute_reply": "2021-11-10T04:09:03.309880Z"
        },
        "trusted": true
      },
      "source": [
        "def plot_fft(col, color='red', peak_thr=1):\n",
        "    v_list = []\n",
        "    dt = 0.1\n",
        "    for i in range(1,19):\n",
        "        f = df[df['exp_num']==i].reset_index()[col]\n",
        "        N = len(f)\n",
        "        t = np.arange(0, N*dt, dt)\n",
        "        freq = np.linspace(0, 1.0/dt, N)\n",
        "        F = np.fft.fft(f)\n",
        "        F_abs = np.abs(F) / (N/2)\n",
        "        F_abs[0] = F_abs[0] / 2\n",
        "        maximal_idx = signal.argrelmax(F_abs, order=1)[0]\n",
        "        peak_cut = peak_thr\n",
        "        maximal_idx = maximal_idx[(F_abs[maximal_idx] > peak_cut) & (maximal_idx <= N/2)]\n",
        "\n",
        "        v = hv.Curve((freq[:int(N/2)+1], F_abs[:int(N/2)+1])).opts(title=f\"{col} in  experiment {i}\", xlabel=\"Frequency(Hz)\", ylabel=f\"Amplitude\")\\\n",
        "                                                          .opts(width=300, height=150,tools=['hover'],show_grid=True,fontsize=8, color=color)\\\n",
        "            * hv.Scatter((freq[maximal_idx], F_abs[maximal_idx])).opts(color='lime', size=5)\n",
        "\n",
        "        v_list.append(v)\n",
        "    return (v_list[0] + v_list[1] + v_list[2] + v_list[3] + v_list[4] + v_list[5] + v_list[6] + v_list[7] + v_list[8] + v_list[9] + v_list[10] + v_list[11] + v_list[12]\\\n",
        "            + v_list[13] + v_list[14] + v_list[15] + v_list[16] + v_list[17]).opts(shared_axes=False).cols(6)"
      ],
      "execution_count": null,
      "outputs": []
    },
    {
      "cell_type": "code",
      "metadata": {
        "id": "uAiYeesJ58bm",
        "execution": {
          "iopub.status.busy": "2021-11-10T04:09:03.311985Z",
          "iopub.execute_input": "2021-11-10T04:09:03.312555Z",
          "iopub.status.idle": "2021-11-10T04:09:07.727542Z",
          "shell.execute_reply.started": "2021-11-10T04:09:03.312514Z",
          "shell.execute_reply": "2021-11-10T04:09:07.726914Z"
        },
        "trusted": true
      },
      "source": [
        "plot_fft('X1_ActualVelocity', color='red', peak_thr=3)"
      ],
      "execution_count": null,
      "outputs": []
    },
    {
      "cell_type": "code",
      "metadata": {
        "id": "OoiSxk8I5-IB",
        "execution": {
          "iopub.status.busy": "2021-11-10T04:09:07.728805Z",
          "iopub.execute_input": "2021-11-10T04:09:07.729289Z",
          "iopub.status.idle": "2021-11-10T04:09:12.086408Z",
          "shell.execute_reply.started": "2021-11-10T04:09:07.729244Z",
          "shell.execute_reply": "2021-11-10T04:09:12.081669Z"
        },
        "trusted": true
      },
      "source": [
        "plot_fft('Y1_ActualVelocity', color='orange', peak_thr=3)"
      ],
      "execution_count": null,
      "outputs": []
    },
    {
      "cell_type": "code",
      "metadata": {
        "id": "3bWLTU0z6AaJ",
        "execution": {
          "iopub.status.busy": "2021-11-10T04:09:12.087780Z",
          "iopub.execute_input": "2021-11-10T04:09:12.088583Z",
          "iopub.status.idle": "2021-11-10T04:09:17.142397Z",
          "shell.execute_reply.started": "2021-11-10T04:09:12.088543Z",
          "shell.execute_reply": "2021-11-10T04:09:17.140843Z"
        },
        "trusted": true
      },
      "source": [
        "plot_fft('Z1_ActualVelocity', color='green', peak_thr=3)"
      ],
      "execution_count": null,
      "outputs": []
    },
    {
      "cell_type": "code",
      "metadata": {
        "id": "scfHlskH6DWI",
        "execution": {
          "iopub.status.busy": "2021-11-10T04:09:17.143783Z",
          "iopub.execute_input": "2021-11-10T04:09:17.144309Z",
          "iopub.status.idle": "2021-11-10T04:09:21.514527Z",
          "shell.execute_reply.started": "2021-11-10T04:09:17.144268Z",
          "shell.execute_reply": "2021-11-10T04:09:21.513824Z"
        },
        "trusted": true
      },
      "source": [
        "plot_fft('S1_ActualVelocity', color='blue', peak_thr=9)"
      ],
      "execution_count": null,
      "outputs": []
    },
    {
      "cell_type": "code",
      "metadata": {
        "id": "_yb48sEP6HW5",
        "execution": {
          "iopub.status.busy": "2021-11-10T04:09:21.515919Z",
          "iopub.execute_input": "2021-11-10T04:09:21.516398Z",
          "iopub.status.idle": "2021-11-10T04:09:26.084655Z",
          "shell.execute_reply.started": "2021-11-10T04:09:21.516360Z",
          "shell.execute_reply": "2021-11-10T04:09:26.083911Z"
        },
        "trusted": true
      },
      "source": [
        "plot_fft('X1_CurrentFeedback', color='red', peak_thr=1.2)"
      ],
      "execution_count": null,
      "outputs": []
    },
    {
      "cell_type": "code",
      "metadata": {
        "id": "Y_f95mlb6JmW",
        "execution": {
          "iopub.status.busy": "2021-11-10T04:09:26.085901Z",
          "iopub.execute_input": "2021-11-10T04:09:26.086367Z",
          "iopub.status.idle": "2021-11-10T04:09:30.407507Z",
          "shell.execute_reply.started": "2021-11-10T04:09:26.086318Z",
          "shell.execute_reply": "2021-11-10T04:09:30.406813Z"
        },
        "trusted": true
      },
      "source": [
        "plot_fft('Y1_CurrentFeedback', color='orange', peak_thr=1.2)"
      ],
      "execution_count": null,
      "outputs": []
    },
    {
      "cell_type": "code",
      "metadata": {
        "id": "8uENM_Fh6Lgk",
        "execution": {
          "iopub.status.busy": "2021-11-10T04:09:30.408881Z",
          "iopub.execute_input": "2021-11-10T04:09:30.409355Z",
          "iopub.status.idle": "2021-11-10T04:09:35.163314Z",
          "shell.execute_reply.started": "2021-11-10T04:09:30.409315Z",
          "shell.execute_reply": "2021-11-10T04:09:35.162502Z"
        },
        "trusted": true
      },
      "source": [
        "plot_fft('Z1_CurrentFeedback', color='green', peak_thr=3)"
      ],
      "execution_count": null,
      "outputs": []
    },
    {
      "cell_type": "code",
      "metadata": {
        "id": "BT_ZryYC6NgJ",
        "execution": {
          "iopub.status.busy": "2021-11-10T04:09:35.164701Z",
          "iopub.execute_input": "2021-11-10T04:09:35.165208Z",
          "iopub.status.idle": "2021-11-10T04:09:39.792544Z",
          "shell.execute_reply.started": "2021-11-10T04:09:35.165166Z",
          "shell.execute_reply": "2021-11-10T04:09:39.791826Z"
        },
        "trusted": true
      },
      "source": [
        "plot_fft('X1_CurrentFeedback', color='blue', peak_thr=1.2)"
      ],
      "execution_count": null,
      "outputs": []
    },
    {
      "cell_type": "code",
      "metadata": {
        "id": "hWukmU3C6OnW",
        "execution": {
          "iopub.status.busy": "2021-11-10T04:09:39.793808Z",
          "iopub.execute_input": "2021-11-10T04:09:39.794342Z",
          "iopub.status.idle": "2021-11-10T04:09:44.511453Z",
          "shell.execute_reply.started": "2021-11-10T04:09:39.794299Z",
          "shell.execute_reply": "2021-11-10T04:09:44.510831Z"
        },
        "trusted": true
      },
      "source": [
        "plot_fft('X1_DCBusVoltage', color='red', peak_thr=0.015)"
      ],
      "execution_count": null,
      "outputs": []
    },
    {
      "cell_type": "code",
      "metadata": {
        "id": "UUEn-YnN6R0v",
        "execution": {
          "iopub.status.busy": "2021-11-10T04:09:44.512859Z",
          "iopub.execute_input": "2021-11-10T04:09:44.513340Z",
          "iopub.status.idle": "2021-11-10T04:09:49.141521Z",
          "shell.execute_reply.started": "2021-11-10T04:09:44.513301Z",
          "shell.execute_reply": "2021-11-10T04:09:49.140812Z"
        },
        "trusted": true
      },
      "source": [
        "plot_fft('Y1_DCBusVoltage', color='orange', peak_thr=0.02)"
      ],
      "execution_count": null,
      "outputs": []
    },
    {
      "cell_type": "code",
      "metadata": {
        "id": "awgLyZCA6TkY",
        "execution": {
          "iopub.status.busy": "2021-11-10T04:09:49.142773Z",
          "iopub.execute_input": "2021-11-10T04:09:49.143570Z",
          "iopub.status.idle": "2021-11-10T04:09:53.469351Z",
          "shell.execute_reply.started": "2021-11-10T04:09:49.143530Z",
          "shell.execute_reply": "2021-11-10T04:09:53.467943Z"
        },
        "trusted": true
      },
      "source": [
        "plot_fft('Z1_DCBusVoltage', color='green', peak_thr=3)"
      ],
      "execution_count": null,
      "outputs": []
    },
    {
      "cell_type": "code",
      "metadata": {
        "id": "54cfVV_M6Vt_",
        "execution": {
          "iopub.status.busy": "2021-11-10T04:09:53.470683Z",
          "iopub.execute_input": "2021-11-10T04:09:53.471217Z",
          "iopub.status.idle": "2021-11-10T04:09:58.064819Z",
          "shell.execute_reply.started": "2021-11-10T04:09:53.471175Z",
          "shell.execute_reply": "2021-11-10T04:09:58.064036Z"
        },
        "trusted": true
      },
      "source": [
        "plot_fft('S1_DCBusVoltage', color='blue', peak_thr=0.15)"
      ],
      "execution_count": null,
      "outputs": []
    },
    {
      "cell_type": "code",
      "metadata": {
        "id": "QFnZxnjqLRay",
        "execution": {
          "iopub.status.busy": "2021-11-10T04:09:58.066253Z",
          "iopub.execute_input": "2021-11-10T04:09:58.066698Z",
          "iopub.status.idle": "2021-11-10T04:09:58.099839Z",
          "shell.execute_reply.started": "2021-11-10T04:09:58.066656Z",
          "shell.execute_reply": "2021-11-10T04:09:58.098871Z"
        },
        "trusted": true
      },
      "source": [
        "for ax in ['X','Y','Z','S']:\n",
        "    df[f'{ax}1_Position_Diff'] = abs(df[f'{ax}1_CommandPosition']-df[f'{ax}1_ActualPosition'])\n",
        "    df[f'{ax}1_Velocity_Diff'] = abs(df[f'{ax}1_CommandVelocity']-df[f'{ax}1_ActualVelocity'])\n",
        "    df[f'{ax}1_Acceleration_Diff'] = abs(df[f'{ax}1_CommandAcceleration']-df[f'{ax}1_ActualAcceleration'])"
      ],
      "execution_count": null,
      "outputs": []
    },
    {
      "cell_type": "code",
      "metadata": {
        "id": "bY9FZxSXLcED",
        "execution": {
          "iopub.status.busy": "2021-11-10T04:09:58.104848Z",
          "iopub.execute_input": "2021-11-10T04:09:58.106269Z",
          "iopub.status.idle": "2021-11-10T04:10:00.522338Z",
          "shell.execute_reply.started": "2021-11-10T04:09:58.106108Z",
          "shell.execute_reply": "2021-11-10T04:10:00.521589Z"
        },
        "trusted": true
      },
      "source": [
        "for col in ['ActualPosition','ActualVelocity','ActualAcceleration','CurrentFeedback','DCBusVoltage','OutputCurrent','OutputVoltage','OutputPower']:\n",
        "    dt = 0.1\n",
        "    for i in range(1,19):\n",
        "        for ax in ['X','Y','Z','S']:\n",
        "            try:\n",
        "                f = df[df['exp_num']==i].reset_index()[f'{ax}1_{col}']\n",
        "            except:\n",
        "                continue\n",
        "\n",
        "            N = len(f)\n",
        "            t = np.arange(0, N*dt, dt)\n",
        "            freq = np.linspace(0, 1.0/dt, N)\n",
        "            F = np.fft.fft(f)\n",
        "            F_abs = np.abs(F) / (N/2)\n",
        "            F_abs[0] = F_abs[0] / 2\n",
        "            maximal_idx = signal.argrelmax(F_abs, order=1)[0]\n",
        "\n",
        "            high_amp = np.max(F_abs[maximal_idx]) if len(maximal_idx) > 0 else 0\n",
        "            high_freq = freq[maximal_idx][np.argmax(F_abs[maximal_idx])] if len(maximal_idx) > 0 else 0\n",
        "\n",
        "            df.loc[df['exp_num']==i,f'{ax}1_{col}_High_Amp'] = high_amp\n",
        "            df.loc[df['exp_num']==i,f'{ax}1_{col}_High_Freq'] = high_freq\n",
        "            df.loc[df['exp_num']==i,f'{ax}1_{col}_High_Amp_Freq'] = high_amp * high_freq"
      ],
      "execution_count": null,
      "outputs": []
    },
    {
      "cell_type": "code",
      "metadata": {
        "id": "sFlXWrYhLehA",
        "execution": {
          "iopub.status.busy": "2021-11-10T04:10:00.524009Z",
          "iopub.execute_input": "2021-11-10T04:10:00.524464Z",
          "iopub.status.idle": "2021-11-10T04:10:00.603142Z",
          "shell.execute_reply.started": "2021-11-10T04:10:00.524421Z",
          "shell.execute_reply": "2021-11-10T04:10:00.602296Z"
        },
        "trusted": true
      },
      "source": [
        "feature_df = df.copy()\n",
        "feature_df['Machining_Process'] = LabelEncoder().fit_transform(feature_df['Machining_Process']).astype(np.int8)\n",
        "feature_df['tool_condition'] = LabelEncoder().fit_transform(feature_df['tool_condition']).astype(np.int8)\n",
        "feature_df['machining_finalized'] = LabelEncoder().fit_transform(feature_df['machining_finalized']).astype(np.int8)\n",
        "feature_df['passed_visual_inspection'] = LabelEncoder().fit_transform(feature_df['passed_visual_inspection']).astype(np.int8)\n",
        "feature_df.drop(['material','exp_num'], axis=1, inplace=True)\n",
        "feature_df.head(3)"
      ],
      "execution_count": null,
      "outputs": []
    },
    {
      "cell_type": "code",
      "metadata": {
        "id": "il1nht0xLgf8",
        "execution": {
          "iopub.status.busy": "2021-11-10T04:10:00.604654Z",
          "iopub.execute_input": "2021-11-10T04:10:00.604945Z",
          "iopub.status.idle": "2021-11-10T04:10:00.661852Z",
          "shell.execute_reply.started": "2021-11-10T04:10:00.604906Z",
          "shell.execute_reply": "2021-11-10T04:10:00.661020Z"
        },
        "trusted": true
      },
      "source": [
        "y_series = feature_df['tool_condition']\n",
        "x_df = feature_df.drop(['tool_condition','machining_finalized','passed_visual_inspection'], axis=1)\n",
        "X_train, X_valid, Y_train, Y_valid = train_test_split(x_df, y_series, test_size=0.2, random_state=0, stratify=y_series)\n",
        "\n",
        "lgb_train = lgb.Dataset(X_train, Y_train)\n",
        "lgb_valid = lgb.Dataset(X_valid, Y_valid, reference=lgb_train)"
      ],
      "execution_count": null,
      "outputs": []
    },
    {
      "cell_type": "code",
      "metadata": {
        "id": "k2vwod9WLjce",
        "execution": {
          "iopub.status.busy": "2021-11-10T04:10:00.663322Z",
          "iopub.execute_input": "2021-11-10T04:10:00.663609Z",
          "iopub.status.idle": "2021-11-10T04:10:02.099752Z",
          "shell.execute_reply.started": "2021-11-10T04:10:00.663571Z",
          "shell.execute_reply": "2021-11-10T04:10:02.099100Z"
        },
        "trusted": true
      },
      "source": [
        "params = {\n",
        "    'task' : 'train',\n",
        "    'boosting' : 'gbdt',\n",
        "    'objective': 'binary',\n",
        "    'metric': 'l2',\n",
        "    'num_leaves': 200,\n",
        "    'feature_fraction': 1.0,\n",
        "    'bagging_fraction': 1.0,\n",
        "    'bagging_freq': 0,\n",
        "    'min_child_samples': 5\n",
        "}\n",
        "gbm_tool_wear = lgb.train(params,\n",
        "            lgb_train,\n",
        "            num_boost_round=100,\n",
        "            valid_sets=lgb_valid,\n",
        "            early_stopping_rounds=100)"
      ],
      "execution_count": null,
      "outputs": []
    },
    {
      "cell_type": "code",
      "metadata": {
        "id": "_qhGUmcRLlMc",
        "execution": {
          "iopub.status.busy": "2021-11-10T04:10:02.102979Z",
          "iopub.execute_input": "2021-11-10T04:10:02.104776Z",
          "iopub.status.idle": "2021-11-10T04:10:02.229418Z",
          "shell.execute_reply.started": "2021-11-10T04:10:02.104737Z",
          "shell.execute_reply": "2021-11-10T04:10:02.227941Z"
        },
        "trusted": true
      },
      "source": [
        "feature_imp = pd.DataFrame()\n",
        "feature_imp['feature'] = gbm_tool_wear.feature_name()\n",
        "feature_imp['importance'] = gbm_tool_wear.feature_importance()\n",
        "hv.Bars(feature_imp.sort_values(by='importance', ascending=False)[0:31][::-1]).opts(title=\"Feature Importance\", color=\"purple\", xlabel=\"Features\", ylabel=\"Importance\", invert_axes=True)\\\n",
        "                            .opts(opts.Bars(width=700, height=700, tools=['hover'], show_grid=True))"
      ],
      "execution_count": null,
      "outputs": []
    },
    {
      "cell_type": "code",
      "metadata": {
        "id": "XjFITWhdLpem",
        "execution": {
          "iopub.status.busy": "2021-11-10T04:10:02.230692Z",
          "iopub.execute_input": "2021-11-10T04:10:02.233121Z",
          "iopub.status.idle": "2021-11-10T04:10:03.375600Z",
          "shell.execute_reply.started": "2021-11-10T04:10:02.233087Z",
          "shell.execute_reply": "2021-11-10T04:10:03.374831Z"
        },
        "trusted": true
      },
      "source": [
        "t = lgb.plot_tree(gbm_tool_wear, figsize=(20, 20), precision=3, tree_index=1, show_info=['split_gain'])\n",
        "plt.title('Visulalization of Tree in Tool Condition')\n",
        "plt.show()"
      ],
      "execution_count": null,
      "outputs": []
    },
    {
      "cell_type": "code",
      "metadata": {
        "id": "mEZCEjFPLqph",
        "execution": {
          "iopub.status.busy": "2021-11-10T04:10:03.377374Z",
          "iopub.execute_input": "2021-11-10T04:10:03.377816Z",
          "iopub.status.idle": "2021-11-10T04:10:03.463127Z",
          "shell.execute_reply.started": "2021-11-10T04:10:03.377776Z",
          "shell.execute_reply": "2021-11-10T04:10:03.462057Z"
        },
        "trusted": true
      },
      "source": [
        "y_series = feature_df['machining_finalized']\n",
        "x_df = feature_df.drop(['tool_condition','machining_finalized','passed_visual_inspection'], axis=1)\n",
        "X_train, X_valid, Y_train, Y_valid = train_test_split(x_df, y_series, test_size=0.2, random_state=0, stratify=y_series)\n",
        "\n",
        "lgb_train = lgb.Dataset(X_train, Y_train)\n",
        "lgb_valid = lgb.Dataset(X_valid, Y_valid, reference=lgb_train)"
      ],
      "execution_count": null,
      "outputs": []
    },
    {
      "cell_type": "code",
      "metadata": {
        "id": "3YI968cFLtBI",
        "execution": {
          "iopub.status.busy": "2021-11-10T04:10:03.464531Z",
          "iopub.execute_input": "2021-11-10T04:10:03.465031Z",
          "iopub.status.idle": "2021-11-10T04:10:05.167724Z",
          "shell.execute_reply.started": "2021-11-10T04:10:03.464964Z",
          "shell.execute_reply": "2021-11-10T04:10:05.167006Z"
        },
        "trusted": true
      },
      "source": [
        "params = {\n",
        "    'task' : 'train',\n",
        "    'boosting' : 'gbdt',\n",
        "    'objective': 'binary',\n",
        "    'metric': 'l2',\n",
        "    'num_leaves': 200,\n",
        "    'feature_fraction': 1.0,\n",
        "    'bagging_fraction': 1.0,\n",
        "    'bagging_freq': 0,\n",
        "    'min_child_samples': 5\n",
        "}\n",
        "gbm_machining_finalized = lgb.train(params,\n",
        "            lgb_train,\n",
        "            num_boost_round=100,\n",
        "            valid_sets=lgb_valid,\n",
        "            early_stopping_rounds=100)"
      ],
      "execution_count": null,
      "outputs": []
    },
    {
      "cell_type": "code",
      "metadata": {
        "id": "6r5mRkj-Lu25",
        "execution": {
          "iopub.status.busy": "2021-11-10T04:10:05.168889Z",
          "iopub.execute_input": "2021-11-10T04:10:05.169310Z",
          "iopub.status.idle": "2021-11-10T04:10:05.300416Z",
          "shell.execute_reply.started": "2021-11-10T04:10:05.169268Z",
          "shell.execute_reply": "2021-11-10T04:10:05.298690Z"
        },
        "trusted": true
      },
      "source": [
        "feature_imp = pd.DataFrame()\n",
        "feature_imp['feature'] = gbm_machining_finalized.feature_name()\n",
        "feature_imp['importance'] = gbm_machining_finalized.feature_importance()\n",
        "hv.Bars(feature_imp.sort_values(by='importance', ascending=False)[0:31][::-1]).opts(title=\"Feature Importance\", color=\"purple\", xlabel=\"Features\", ylabel=\"Importance\", invert_axes=True)\\\n",
        "                            .opts(opts.Bars(width=700, height=700, tools=['hover'], show_grid=True))"
      ],
      "execution_count": null,
      "outputs": []
    },
    {
      "cell_type": "code",
      "metadata": {
        "id": "wqxdunSQLxyf",
        "execution": {
          "iopub.status.busy": "2021-11-10T04:10:05.301670Z",
          "iopub.execute_input": "2021-11-10T04:10:05.302126Z",
          "iopub.status.idle": "2021-11-10T04:10:05.628603Z",
          "shell.execute_reply.started": "2021-11-10T04:10:05.302086Z",
          "shell.execute_reply": "2021-11-10T04:10:05.627829Z"
        },
        "trusted": true
      },
      "source": [
        "t = lgb.plot_tree(gbm_machining_finalized, figsize=(20, 20), precision=3, tree_index=1, show_info=['split_gain'])\n",
        "plt.title('Visulalization of Tree in Machining Finalized')\n",
        "plt.show()"
      ],
      "execution_count": null,
      "outputs": []
    },
    {
      "cell_type": "code",
      "metadata": {
        "id": "ekrIwyfqL1ej",
        "execution": {
          "iopub.status.busy": "2021-11-10T04:10:05.630372Z",
          "iopub.execute_input": "2021-11-10T04:10:05.630805Z",
          "iopub.status.idle": "2021-11-10T04:10:05.684744Z",
          "shell.execute_reply.started": "2021-11-10T04:10:05.630763Z",
          "shell.execute_reply": "2021-11-10T04:10:05.684012Z"
        },
        "trusted": true
      },
      "source": [
        "y_series = feature_df['passed_visual_inspection']\n",
        "x_df = feature_df.drop(['tool_condition','machining_finalized','passed_visual_inspection'], axis=1)\n",
        "X_train, X_valid, Y_train, Y_valid = train_test_split(x_df, y_series, test_size=0.2, random_state=0, stratify=y_series)\n",
        "\n",
        "lgb_train = lgb.Dataset(X_train, Y_train)\n",
        "lgb_valid = lgb.Dataset(X_valid, Y_valid, reference=lgb_train)"
      ],
      "execution_count": null,
      "outputs": []
    },
    {
      "cell_type": "code",
      "metadata": {
        "id": "a1bms-kLL2gx",
        "execution": {
          "iopub.status.busy": "2021-11-10T04:10:05.686291Z",
          "iopub.execute_input": "2021-11-10T04:10:05.686570Z",
          "iopub.status.idle": "2021-11-10T04:10:06.928457Z",
          "shell.execute_reply.started": "2021-11-10T04:10:05.686535Z",
          "shell.execute_reply": "2021-11-10T04:10:06.927875Z"
        },
        "trusted": true
      },
      "source": [
        "params = {\n",
        "    'task' : 'train',\n",
        "    'boosting' : 'gbdt',\n",
        "    'objective': 'binary',\n",
        "    'metric': 'l2',\n",
        "    'num_leaves': 200,\n",
        "    'feature_fraction': 1.0,\n",
        "    'bagging_fraction': 1.0,\n",
        "    'bagging_freq': 0,\n",
        "    'min_child_samples': 5\n",
        "}\n",
        "gbm_passed_vis_inspection = lgb.train(params,\n",
        "            lgb_train,\n",
        "            num_boost_round=100,\n",
        "            valid_sets=lgb_valid,\n",
        "            early_stopping_rounds=100)"
      ],
      "execution_count": null,
      "outputs": []
    },
    {
      "cell_type": "code",
      "metadata": {
        "id": "B8reudkyL5I7",
        "execution": {
          "iopub.status.busy": "2021-11-10T04:10:06.931552Z",
          "iopub.execute_input": "2021-11-10T04:10:06.932070Z",
          "iopub.status.idle": "2021-11-10T04:10:07.065860Z",
          "shell.execute_reply.started": "2021-11-10T04:10:06.932034Z",
          "shell.execute_reply": "2021-11-10T04:10:07.064849Z"
        },
        "trusted": true
      },
      "source": [
        "feature_imp = pd.DataFrame()\n",
        "feature_imp['feature'] = gbm_passed_vis_inspection.feature_name()\n",
        "feature_imp['importance'] = gbm_passed_vis_inspection.feature_importance()\n",
        "hv.Bars(feature_imp.sort_values(by='importance', ascending=False)[0:31][::-1]).opts(title=\"Feature Importance\", color=\"purple\", xlabel=\"Features\", ylabel=\"Importance\", invert_axes=True)\\\n",
        "                            .opts(opts.Bars(width=700, height=700, tools=['hover'], show_grid=True))"
      ],
      "execution_count": null,
      "outputs": []
    },
    {
      "cell_type": "code",
      "metadata": {
        "id": "ONv1woBZL8jJ",
        "execution": {
          "iopub.status.busy": "2021-11-10T04:10:07.067416Z",
          "iopub.execute_input": "2021-11-10T04:10:07.067681Z",
          "iopub.status.idle": "2021-11-10T04:10:07.510709Z",
          "shell.execute_reply.started": "2021-11-10T04:10:07.067645Z",
          "shell.execute_reply": "2021-11-10T04:10:07.509854Z"
        },
        "trusted": true
      },
      "source": [
        "t = lgb.plot_tree(gbm_passed_vis_inspection, figsize=(20, 20), precision=3, tree_index=1, show_info=['split_gain'])\n",
        "plt.title('Visulalization of Tree in Passed Visual Inspection')\n",
        "plt.show()"
      ],
      "execution_count": null,
      "outputs": []
    },
    {
      "cell_type": "code",
      "metadata": {
        "id": "E1UhX6FzMHED",
        "execution": {
          "iopub.status.busy": "2021-11-10T04:10:07.512342Z",
          "iopub.execute_input": "2021-11-10T04:10:07.512865Z",
          "iopub.status.idle": "2021-11-10T04:10:07.799706Z",
          "shell.execute_reply.started": "2021-11-10T04:10:07.512811Z",
          "shell.execute_reply": "2021-11-10T04:10:07.798921Z"
        },
        "trusted": true
      },
      "source": [
        "frames = list()\n",
        "results = pd.read_csv(\"../input/cnc-tool-wear/train.csv\")\n",
        "for i in range(1,19):\n",
        "    exp = '0' + str(i) if i < 10 else str(i)\n",
        "    frame = pd.read_csv(\"../input/cnc-tool-wear/experiment_{}.csv\".format(exp))\n",
        "    row = results[results['No'] == i]\n",
        "    frame['target'] = 1 if row.iloc[0]['tool_condition'] == 'worn' else 0\n",
        "    frames.append(frame)\n",
        "df = pd.concat(frames, ignore_index = True)\n",
        "df.head()"
      ],
      "execution_count": null,
      "outputs": []
    },
    {
      "cell_type": "code",
      "metadata": {
        "id": "nbEgmX-AMcOc",
        "execution": {
          "iopub.status.busy": "2021-11-10T04:10:07.800882Z",
          "iopub.execute_input": "2021-11-10T04:10:07.801169Z",
          "iopub.status.idle": "2021-11-10T04:10:09.638556Z",
          "shell.execute_reply.started": "2021-11-10T04:10:07.801130Z",
          "shell.execute_reply": "2021-11-10T04:10:09.637858Z"
        },
        "trusted": true
      },
      "source": [
        "df_correlation=df.corr()\n",
        "df_correlation.dropna(thresh=1,inplace=True)\n",
        "df_correlation.drop(columns=['Z1_CurrentFeedback','Z1_DCBusVoltage','Z1_OutputCurrent','Z1_OutputVoltage','S1_SystemInertia','target'],inplace=True)\n",
        "plt.figure(figsize=(20,20))\n",
        "sns.heatmap(df_correlation)"
      ],
      "execution_count": null,
      "outputs": []
    },
    {
      "cell_type": "code",
      "metadata": {
        "id": "CoAWm40SMhJf",
        "execution": {
          "iopub.status.busy": "2021-11-10T04:10:09.639862Z",
          "iopub.execute_input": "2021-11-10T04:10:09.640252Z",
          "iopub.status.idle": "2021-11-10T04:10:09.748257Z",
          "shell.execute_reply.started": "2021-11-10T04:10:09.640212Z",
          "shell.execute_reply": "2021-11-10T04:10:09.747455Z"
        },
        "trusted": true
      },
      "source": [
        "from sklearn.model_selection import train_test_split\n",
        "from sklearn.model_selection import KFold\n",
        "from sklearn.model_selection import GridSearchCV\n",
        "from sklearn.model_selection import cross_val_score\n",
        "from sklearn.preprocessing import LabelEncoder\n",
        "from sklearn.tree import DecisionTreeClassifier\n",
        "from sklearn.ensemble import AdaBoostClassifier\n",
        "from sklearn.ensemble import GradientBoostingClassifier\n",
        "from sklearn import metrics\n",
        "\n",
        "\n",
        "import xgboost as xgb\n",
        "from xgboost import XGBClassifier\n",
        "from xgboost import plot_importance\n",
        "import gc\n",
        "%matplotlib inline\n",
        "\n",
        "\n",
        "x=df.drop(columns=['target','Machining_Process'],axis=1)\n",
        "y=np.array(df['target'])\n",
        "X_train,X_test,y_train,y_test =train_test_split(x,y,train_size=0.8,random_state=100)"
      ],
      "execution_count": null,
      "outputs": []
    },
    {
      "cell_type": "code",
      "metadata": {
        "id": "NCmdzy3GMtOS",
        "execution": {
          "iopub.status.busy": "2021-11-10T04:10:09.749793Z",
          "iopub.execute_input": "2021-11-10T04:10:09.750495Z",
          "iopub.status.idle": "2021-11-10T04:10:14.951710Z",
          "shell.execute_reply.started": "2021-11-10T04:10:09.750447Z",
          "shell.execute_reply": "2021-11-10T04:10:14.950923Z"
        },
        "trusted": true
      },
      "source": [
        "xgb_model=XGBClassifier()\n",
        "xgb_model.fit(X_train,y_train)"
      ],
      "execution_count": null,
      "outputs": []
    },
    {
      "cell_type": "code",
      "metadata": {
        "id": "fhoW1LdVMwCn",
        "execution": {
          "iopub.status.busy": "2021-11-10T04:10:14.953104Z",
          "iopub.execute_input": "2021-11-10T04:10:14.953372Z",
          "iopub.status.idle": "2021-11-10T04:10:14.979748Z",
          "shell.execute_reply.started": "2021-11-10T04:10:14.953335Z",
          "shell.execute_reply": "2021-11-10T04:10:14.979219Z"
        },
        "trusted": true
      },
      "source": [
        "y_pred = xgb_model.predict(X_test)\n",
        "y_pred[:10]"
      ],
      "execution_count": null,
      "outputs": []
    },
    {
      "cell_type": "code",
      "metadata": {
        "id": "r99ypdKIMyR8",
        "execution": {
          "iopub.status.busy": "2021-11-10T04:10:14.982692Z",
          "iopub.execute_input": "2021-11-10T04:10:14.984572Z",
          "iopub.status.idle": "2021-11-10T04:10:14.995556Z",
          "shell.execute_reply.started": "2021-11-10T04:10:14.984537Z",
          "shell.execute_reply": "2021-11-10T04:10:14.994768Z"
        },
        "trusted": true
      },
      "source": [
        "auc = roc_auc_score(y_test, y_pred)\n",
        "auc"
      ],
      "execution_count": null,
      "outputs": []
    },
    {
      "cell_type": "code",
      "metadata": {
        "id": "f1f-FJuAM1Fk",
        "execution": {
          "iopub.status.busy": "2021-11-10T04:10:14.996729Z",
          "iopub.execute_input": "2021-11-10T04:10:14.997117Z",
          "iopub.status.idle": "2021-11-10T04:10:15.010470Z",
          "shell.execute_reply.started": "2021-11-10T04:10:14.997081Z",
          "shell.execute_reply": "2021-11-10T04:10:15.009766Z"
        },
        "trusted": true
      },
      "source": [
        "from sklearn.metrics import confusion_matrix\n",
        "cnf_matrix = confusion_matrix(y_test, y_pred)\n",
        "cnf_matrix"
      ],
      "execution_count": null,
      "outputs": []
    },
    {
      "cell_type": "code",
      "metadata": {
        "id": "AVIGwRw6M3lP",
        "execution": {
          "iopub.status.busy": "2021-11-10T04:10:15.011648Z",
          "iopub.execute_input": "2021-11-10T04:10:15.012032Z",
          "iopub.status.idle": "2021-11-10T04:10:15.019245Z",
          "shell.execute_reply.started": "2021-11-10T04:10:15.011997Z",
          "shell.execute_reply": "2021-11-10T04:10:15.018528Z"
        },
        "trusted": true
      },
      "source": [
        "from sklearn.metrics import roc_curve, auc\n",
        "fpr, tpr, thresholds = roc_curve(y_test, y_pred)\n",
        "roc_auc = auc(fpr, tpr)\n",
        "roc_auc"
      ],
      "execution_count": null,
      "outputs": []
    },
    {
      "cell_type": "code",
      "metadata": {
        "id": "cpt9iQWfM6Hu",
        "execution": {
          "iopub.status.busy": "2021-11-10T04:10:15.021126Z",
          "iopub.execute_input": "2021-11-10T04:10:15.021322Z",
          "iopub.status.idle": "2021-11-10T04:10:15.028567Z",
          "shell.execute_reply.started": "2021-11-10T04:10:15.021298Z",
          "shell.execute_reply": "2021-11-10T04:10:15.027798Z"
        },
        "trusted": true
      },
      "source": [
        "def draw_roc( actual, probs ):\n",
        "    fpr, tpr, thresholds = metrics.roc_curve( actual, probs,\n",
        "                                              drop_intermediate = False )\n",
        "    auc_score = metrics.roc_auc_score( actual, probs )\n",
        "    plt.figure(figsize=(6, 4))\n",
        "    plt.plot( fpr, tpr, label='ROC curve (area = %0.2f)' % auc_score )\n",
        "    plt.plot([0, 1], [0, 1], 'k--')\n",
        "    plt.xlim([0.0, 1.0])\n",
        "    plt.ylim([0.0, 1.05])\n",
        "    plt.xlabel('False Positive Rate or [1 - True Negative Rate]')\n",
        "    plt.ylabel('True Positive Rate')\n",
        "    plt.title('Receiver operating characteristic example')\n",
        "    plt.legend(loc=\"lower right\")\n",
        "    plt.show()\n",
        "\n",
        "    return fpr, tpr, thresholds"
      ],
      "execution_count": null,
      "outputs": []
    },
    {
      "cell_type": "code",
      "metadata": {
        "id": "904v2Tc4M8Wk",
        "execution": {
          "iopub.status.busy": "2021-11-10T04:10:15.029775Z",
          "iopub.execute_input": "2021-11-10T04:10:15.030284Z",
          "iopub.status.idle": "2021-11-10T04:10:15.235497Z",
          "shell.execute_reply.started": "2021-11-10T04:10:15.030247Z",
          "shell.execute_reply": "2021-11-10T04:10:15.234840Z"
        },
        "trusted": true
      },
      "source": [
        "draw_roc(y_test,y_pred)"
      ],
      "execution_count": null,
      "outputs": []
    },
    {
      "cell_type": "code",
      "metadata": {
        "id": "VyPv1i6rM-Y6",
        "execution": {
          "iopub.status.busy": "2021-11-10T04:10:15.236754Z",
          "iopub.execute_input": "2021-11-10T04:10:15.237561Z",
          "iopub.status.idle": "2021-11-10T04:10:15.463282Z",
          "shell.execute_reply.started": "2021-11-10T04:10:15.237515Z",
          "shell.execute_reply": "2021-11-10T04:10:15.462597Z"
        },
        "trusted": true
      },
      "source": [
        "count_points=70\n",
        "c = [i for i in range(1,count_points+1,1)]\n",
        "fig = plt.figure()\n",
        "plt.plot(c,y_test[:count_points], color=\"blue\", linewidth=2.5, linestyle=\"-\")#Actual Plot in blue\n",
        "plt.plot(c,y_pred[:count_points], color=\"red\",  linewidth=2.5, linestyle=\"--\")#predicted Plot in red\n",
        "fig.suptitle('Actual and Predicted', fontsize=20)              # Plot heading\n",
        "plt.xlabel('Index', fontsize=18)                               # X-label\n",
        "plt.ylabel('Worn_status', fontsize=16)"
      ],
      "execution_count": null,
      "outputs": []
    },
    {
      "cell_type": "code",
      "metadata": {
        "id": "fMv1R1OeNB6M",
        "execution": {
          "iopub.status.busy": "2021-11-10T04:10:15.464500Z",
          "iopub.execute_input": "2021-11-10T04:10:15.464818Z",
          "iopub.status.idle": "2021-11-10T04:10:15.717810Z",
          "shell.execute_reply.started": "2021-11-10T04:10:15.464779Z",
          "shell.execute_reply": "2021-11-10T04:10:15.717152Z"
        },
        "trusted": true
      },
      "source": [
        "plt.bar(range(len(xgb_model.feature_importances_)), xgb_model.feature_importances_)\n",
        "plt.show()"
      ],
      "execution_count": null,
      "outputs": []
    },
    {
      "cell_type": "code",
      "metadata": {
        "execution": {
          "iopub.status.busy": "2021-11-10T04:10:15.718960Z",
          "iopub.execute_input": "2021-11-10T04:10:15.719221Z",
          "iopub.status.idle": "2021-11-10T04:10:15.728905Z",
          "shell.execute_reply.started": "2021-11-10T04:10:15.719184Z",
          "shell.execute_reply": "2021-11-10T04:10:15.728190Z"
        },
        "trusted": true,
        "id": "dSz4m609ZjVY"
      },
      "source": [
        "features = [(df.columns[i], v) for i,v in enumerate(xgb_model.feature_importances_)]\n",
        "features.sort(key=lambda x: x[1], reverse = True)\n",
        "for item in features[:10]:\n",
        "    print(\"{0}: {1:0.4f}\".format(item[0], item[1]))"
      ],
      "execution_count": null,
      "outputs": []
    }
  ]
}